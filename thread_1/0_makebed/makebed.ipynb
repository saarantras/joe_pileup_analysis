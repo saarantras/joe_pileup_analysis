{
 "cells": [
  {
   "cell_type": "markdown",
   "id": "2b41a55e-31af-4103-8887-a59290a6af68",
   "metadata": {},
   "source": [
    "As of 2023-12-12, the default genome version is hg38, so I don't have to worry too much about version incompatability.\n",
    "If you are using this code in the future, make sure that's still the case. "
   ]
  },
  {
   "cell_type": "code",
   "execution_count": 57,
   "id": "a0bbad26-5eb5-4bd1-afdb-490039efb13f",
   "metadata": {},
   "outputs": [],
   "source": [
    "from biomart import BiomartServer\n",
    "import pandas as pd\n",
    "import glob\n",
    "import os"
   ]
  },
  {
   "cell_type": "code",
   "execution_count": 58,
   "id": "ba2a1195-dbed-40af-93a5-814d00ea54eb",
   "metadata": {},
   "outputs": [],
   "source": [
    "basepath=\"/home/mcn26/palmer_scratch/joe/data/deseq/\""
   ]
  },
  {
   "cell_type": "code",
   "execution_count": 59,
   "id": "02d7513c-0da8-4bf2-a52d-dfb5fbad3a73",
   "metadata": {},
   "outputs": [],
   "source": [
    "def fetch_gene_coordinates(ensembl_ids, batch_size=25):\n",
    "    server = BiomartServer(\"http://www.ensembl.org/biomart\")\n",
    "    db = server.datasets['hsapiens_gene_ensembl']\n",
    "\n",
    "    for i in range(0, len(ensembl_ids), batch_size):\n",
    "        batch_ids = ensembl_ids[i:i + batch_size]\n",
    "\n",
    "        response = db.search({\n",
    "            'filters': {\n",
    "                'ensembl_gene_id': batch_ids\n",
    "            },\n",
    "            'attributes': [\n",
    "                'ensembl_gene_id',\n",
    "                'external_gene_name',\n",
    "                'chromosome_name',\n",
    "                'start_position',\n",
    "                'end_position',\n",
    "                'strand'\n",
    "            ]\n",
    "        })\n",
    "\n",
    "        for line in response.iter_lines():\n",
    "            yield line"
   ]
  },
  {
   "cell_type": "code",
   "execution_count": null,
   "id": "d10ed2e8-513c-42f4-aa6b-3b3f4f314968",
   "metadata": {},
   "outputs": [
    {
     "name": "stdout",
     "output_type": "stream",
     "text": [
      "processingup_in_ko_deseq_ectoderm_condition_wt_vs_alkbh1ko_abs_fc_gt_2_and_p_lt_10e-16.csv\n",
      "retrieving data from biomart...\n",
      "writing up_in_ko_deseq_ectoderm_condition_wt_vs_alkbh1ko_abs_fc_gt_2_and_p_lt_10e-16.bed\n",
      "processingup_in_ko_deseq_esc_condition_wt_vs_alkbh1ko_abs_fc_gt_2_and_p_lt_10e-16.csv\n",
      "retrieving data from biomart...\n",
      "writing up_in_ko_deseq_esc_condition_wt_vs_alkbh1ko_abs_fc_gt_2_and_p_lt_10e-16.bed\n",
      "processingup_in_ko_endoderm_condition_wt_vs_alkbh1ko_abs_fc_gt_2_and_p_lt_10e-16.csv\n",
      "retrieving data from biomart...\n",
      "writing up_in_ko_endoderm_condition_wt_vs_alkbh1ko_abs_fc_gt_2_and_p_lt_10e-16.bed\n",
      "processingup_in_ko_mesoderm_condition_wt_vs_alkbh1ko_abs_fc_gt_2_and_p_lt_10e-16.csv\n",
      "retrieving data from biomart...\n"
     ]
    }
   ],
   "source": [
    "csv_files = glob.glob(basepath+\"*.csv\")\n",
    "\n",
    "for currentpath in csv_files:\n",
    "    \n",
    "    fullname=os.path.basename(currentpath)\n",
    "    name=os.path.splitext(fullname)[0]\n",
    "    \n",
    "    print(\"processing\"+fullname)\n",
    "    df=pd.read_csv(basepath+fullname)\n",
    "\n",
    "    ids=df.iloc[:,0].to_list()\n",
    "\n",
    "    print(\"retrieving data from biomart...\")\n",
    "    data=[]\n",
    "    gene_data = fetch_gene_coordinates(ids)\n",
    "    for line in gene_data:\n",
    "        data.append(line)\n",
    "        \n",
    "    output_file=name+\".bed\"\n",
    "    print(\"writing \"+output_file)\n",
    "    with open(\"/home/mcn26/palmer_scratch/joe/data/de_beds/\"+output_file, 'w') as file:\n",
    "        for line in data:\n",
    "            fields=line.decode(\"utf-8\").split(\"\\t\")\n",
    "    \n",
    "            chrom = fields[2]\n",
    "            start = fields[3]\n",
    "            end = fields[4]\n",
    "            name = fields[1]\n",
    "            score = '0'\n",
    "            strand = '+' if fields[5] == '1' else '-'\n",
    "    \n",
    "            bed_line = f'{chrom}\\t{start}\\t{end}\\t{name}\\t{score}\\t{strand}\\n'\n",
    "            file.write(bed_line)\n",
    "        "
   ]
  }
 ],
 "metadata": {
  "kernelspec": {
   "display_name": "Python 3 (ipykernel)",
   "language": "python",
   "name": "python3"
  },
  "language_info": {
   "codemirror_mode": {
    "name": "ipython",
    "version": 3
   },
   "file_extension": ".py",
   "mimetype": "text/x-python",
   "name": "python",
   "nbconvert_exporter": "python",
   "pygments_lexer": "ipython3",
   "version": "3.12.0"
  }
 },
 "nbformat": 4,
 "nbformat_minor": 5
}
